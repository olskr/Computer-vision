{
  "nbformat": 4,
  "nbformat_minor": 0,
  "metadata": {
    "colab": {
      "provenance": [],
      "gpuType": "T4"
    },
    "kernelspec": {
      "name": "python3",
      "display_name": "Python 3"
    },
    "language_info": {
      "name": "python"
    },
    "accelerator": "GPU"
  },
  "cells": [
    {
      "cell_type": "markdown",
      "source": [
        "## **Задание 4:**\n",
        "1. Собрать собственный датасет для детектирования объектов.\n",
        "2. Реализовать детектирование методом сканирующего окна с HOG дескриптором.\n",
        "3. Реализовать детектирование объектов по собранному датасету с помощью тюнинга Yolo.\n",
        "4. Сравнить эффективность полученных детекторов, используя метрики качества детектирования объектов."
      ],
      "metadata": {
        "id": "olFfnniKr1TD"
      }
    },
    {
      "cell_type": "code",
      "execution_count": null,
      "metadata": {
        "colab": {
          "base_uri": "https://localhost:8080/"
        },
        "id": "PbUvnkLLreg6",
        "outputId": "b8e7b0cf-8cfe-45d8-b3c9-5b8b678357ba"
      },
      "outputs": [
        {
          "output_type": "stream",
          "name": "stdout",
          "text": [
            "Mounted at /content/drive\n"
          ]
        }
      ],
      "source": [
        "# монтируем google drive\n",
        "from google.colab import drive\n",
        "drive.mount('/content/drive', force_remount=True)"
      ]
    },
    {
      "cell_type": "code",
      "source": [
        "!pip install --q imutils\n",
        "!pip install mean_average_precision"
      ],
      "metadata": {
        "id": "6GwTj1rYrz6x"
      },
      "execution_count": null,
      "outputs": []
    },
    {
      "cell_type": "code",
      "source": [
        "import cv2\n",
        "from glob import glob\n",
        "import imutils\n",
        "import numpy as np\n",
        "import os\n",
        "import torch\n",
        "from PIL import Image\n",
        "from numpy.linalg import norm\n",
        "from collections import defaultdict\n",
        "from skimage.feature import hog\n",
        "from mean_average_precision import MetricBuilder"
      ],
      "metadata": {
        "id": "uFIDoyW9cz3i"
      },
      "execution_count": null,
      "outputs": []
    },
    {
      "cell_type": "code",
      "source": [
        "def sliding_window(image, step, ws):\n",
        "    #slide a window of ws size over the image\n",
        "    for y in range(0, image.shape[0]-ws[1], step): # rows-wise loop\n",
        "        # -ws[1] avoids extending the sliding window outside the image itself, increment the y-position with step\n",
        "        for x in range(0, image.shape[1] - ws[0], step):#columns-wise loop, increment the x-position with step\n",
        "            # use yield(instead of return) because this is a generator\n",
        "            #yield the actual x and y positions and the current window\n",
        "            yield (x, y, image[y:y + ws[1], x:x + ws[0]])\n",
        "\n",
        "\n",
        "def image_pyramid(image, scale=1.5, minSize=(224, 224)):\n",
        "    # yield the original image, this is the base of the image pyramid\n",
        "    yield image\n",
        "    # keep looping over the image pyramid\n",
        "    while True:\n",
        "        # compute the dimensions of the next image in the pyramid\n",
        "        #scale controls how much the image is resized at each layer\n",
        "        w = int(image.shape[1] / scale)\n",
        "        # resize the image and take care of image aspect-ratio\n",
        "        image = imutils.resize(image, width=w)\n",
        "        # if the resized image does not meet the supplied minimum\n",
        "        # size, then stop constructing the pyramid\n",
        "        if image.shape[0] < minSize[1] or image.shape[1] < minSize[0]:\n",
        "            break\n",
        "        # yield the next image in the pyramid\n",
        "        yield image"
      ],
      "metadata": {
        "id": "6TExw0p5dLLA"
      },
      "execution_count": null,
      "outputs": []
    },
    {
      "cell_type": "code",
      "source": [
        "# initialize variables used for the object detection procedure\n",
        "WIDTH = 600\n",
        "PYR_SCALE = 1.5\n",
        "WIN_STEP = 16*3 # running on laptop so I generated a small pyramid\n",
        "ROI_SIZE = (200, 150)\n",
        "INPUT_SIZE = (224, 224)\n",
        "NC = 20"
      ],
      "metadata": {
        "id": "JQw3qdDmdPgz"
      },
      "execution_count": null,
      "outputs": []
    },
    {
      "cell_type": "markdown",
      "source": [
        "Извлечение регионов интереса (ROIs) из изображения при помощи пирамиды и скользящего окна:"
      ],
      "metadata": {
        "id": "q0HsCQRi2z1Z"
      }
    },
    {
      "cell_type": "code",
      "source": [
        "def extract_rois_and_locations(image, roi_size=(200, 150), win_step=48, pyr_scale=1.5):\n",
        "    pyramid = image_pyramid(image, scale=pyr_scale, minSize=roi_size)\n",
        "    rois, locs = [], []\n",
        "\n",
        "    for resized in pyramid:\n",
        "        for (x, y, roi) in sliding_window(resized, win_step, roi_size):\n",
        "            if roi.shape[0] != roi_size[1] or roi.shape[1] != roi_size[0]:\n",
        "                continue\n",
        "            rois.append(roi)\n",
        "            locs.append((x, y, x + roi_size[0], y + roi_size[1]))\n",
        "\n",
        "    return rois, locs"
      ],
      "metadata": {
        "id": "RE9HtX62dVsb"
      },
      "execution_count": null,
      "outputs": []
    },
    {
      "cell_type": "markdown",
      "source": [
        "Вычисление HOG-дескриптора:"
      ],
      "metadata": {
        "id": "ekoVTdPv3Ill"
      }
    },
    {
      "cell_type": "code",
      "source": [
        "def compute_hog(img):\n",
        "    img = cv2.resize(img, (400, 400))\n",
        "    img = cv2.cvtColor(img, cv2.COLOR_BGR2GRAY)\n",
        "    features = hog(img, pixels_per_cell=(8, 8), cells_per_block=(2, 2), feature_vector=True)\n",
        "    return features"
      ],
      "metadata": {
        "id": "9wQZQx-vfJaw"
      },
      "execution_count": null,
      "outputs": []
    },
    {
      "cell_type": "markdown",
      "source": [
        "Обучение HOG-классификатора:"
      ],
      "metadata": {
        "id": "8JkyhqYw3QEz"
      }
    },
    {
      "cell_type": "code",
      "source": [
        "def train_hog(train_image_paths, train_label_paths):\n",
        "    class_vectors = defaultdict(list)\n",
        "    for image_path, label_path in zip(train_image_paths, train_label_paths):\n",
        "        image = cv2.imread(image_path)\n",
        "        hog_vector = compute_hog(image)\n",
        "\n",
        "        with open(label_path, 'r') as f:\n",
        "            label = int(f.readline().strip().split(' ')[0])\n",
        "            class_vectors[label].append(hog_vector)\n",
        "    return class_vectors"
      ],
      "metadata": {
        "id": "BviKtGpPfzV3"
      },
      "execution_count": null,
      "outputs": []
    },
    {
      "cell_type": "markdown",
      "source": [
        "Сравнение HOG-вектора с векторами классов, нахождение наилучшего:"
      ],
      "metadata": {
        "id": "Oa1xW4H83WVF"
      }
    },
    {
      "cell_type": "code",
      "source": [
        "def get_best_label_dist(hog_vector, class_vectors):\n",
        "    best_label = -1\n",
        "    best_distance = float('inf')\n",
        "    for label, vectors in class_vectors.items():\n",
        "        distances = np.linalg.norm(np.array(vectors) - hog_vector, axis=1)\n",
        "        min_distance = np.min(distances)\n",
        "        if min_distance < best_distance:\n",
        "            best_distance = min_distance\n",
        "            best_label = label\n",
        "    return best_label, best_distance"
      ],
      "metadata": {
        "id": "S5cIqjfOf5cf"
      },
      "execution_count": null,
      "outputs": []
    },
    {
      "cell_type": "markdown",
      "source": [
        "Детекция объектов на одном изображении:\n"
      ],
      "metadata": {
        "id": "G62_vXPy3e1b"
      }
    },
    {
      "cell_type": "code",
      "source": [
        "def detect_img(img, class_vectors, roi_size=(200, 150), win_step=48, pyr_scale=1.5):\n",
        "    rois, locs = extract_rois_and_locations(img, roi_size, win_step, pyr_scale)\n",
        "    best_loc = None\n",
        "    best_label = -1\n",
        "    best_distance = float('inf')\n",
        "\n",
        "    for roi, loc in zip(rois, locs):\n",
        "        hog_vector = compute_hog(roi)\n",
        "        label, distance = get_best_label_dist(hog_vector, class_vectors)\n",
        "        if distance < best_distance:\n",
        "            best_distance = distance\n",
        "            best_loc = loc\n",
        "            best_label = label\n",
        "\n",
        "    return best_loc, best_label"
      ],
      "metadata": {
        "id": "LwR6ez3sguRK"
      },
      "execution_count": null,
      "outputs": []
    },
    {
      "cell_type": "markdown",
      "source": [
        "Детекция объектов на нескольких изображениях:"
      ],
      "metadata": {
        "id": "Fv0JlRGO3kGc"
      }
    },
    {
      "cell_type": "code",
      "source": [
        "def detect(images, class_vectors, roi_size=(200, 150), win_step=48, pyr_scale=1.5):\n",
        "    results = []\n",
        "    for img_path in images:\n",
        "        image = cv2.imread(img_path)\n",
        "        loc, label = detect_img(image, class_vectors, roi_size, win_step, pyr_scale)\n",
        "        if loc is not None:\n",
        "            results.append((loc, label))\n",
        "    return results"
      ],
      "metadata": {
        "id": "xX3C_mXOgyil"
      },
      "execution_count": null,
      "outputs": []
    },
    {
      "cell_type": "code",
      "source": [
        "def get_file_paths(image_dir, label_dir, image_ext='.jpeg', label_ext='.txt'):\n",
        "    image_paths = glob(os.path.join(image_dir, f\"*{image_ext}\"))\n",
        "    label_paths = [\n",
        "        os.path.join(label_dir, f\"{os.path.splitext(os.path.basename(image_path))[0]}{label_ext}\")\n",
        "        for image_path in image_paths\n",
        "    ]\n",
        "    return image_paths, label_paths"
      ],
      "metadata": {
        "id": "IFSU5pudg0QQ"
      },
      "execution_count": null,
      "outputs": []
    },
    {
      "cell_type": "code",
      "source": [
        "def parse_gt(label_paths, img_size=400):\n",
        "    gt = []\n",
        "    for label_path in label_paths:\n",
        "        with open(label_path, 'r') as f:\n",
        "            line = f.readline().strip()\n",
        "            parts = line.split(' ')\n",
        "            label = int(parts[0])\n",
        "            bbox = list(map(lambda x: int(float(x) * img_size), parts[1:]))\n",
        "            gt.append(np.array(bbox + [label, 0, 0]))\n",
        "    return np.array(gt)"
      ],
      "metadata": {
        "id": "8AjX20ang2BR"
      },
      "execution_count": null,
      "outputs": []
    },
    {
      "cell_type": "code",
      "source": [
        "def format_predictions(predictions):\n",
        "    formatted = []\n",
        "    for pred in predictions:\n",
        "        if pred is not None:\n",
        "            (xmin, ymin, xmax, ymax), label = pred\n",
        "            formatted.append(np.array([xmin, ymin, xmax, ymax, label, 0.5]))\n",
        "    return np.array(formatted)"
      ],
      "metadata": {
        "id": "I3w_q9Ang3VO"
      },
      "execution_count": null,
      "outputs": []
    },
    {
      "cell_type": "markdown",
      "source": [
        "В качестве датасета для данной работы были выбраны изображения знаков сервиса ПДД, представленные в 20 классах, что соответствует количеству таких знаков. Перед началом обучения датасет был дополнительно аугментирован."
      ],
      "metadata": {
        "id": "uFGET8xf4lrn"
      }
    },
    {
      "cell_type": "code",
      "source": [
        "# распакуем датасет\n",
        "!unzip -qq /content/drive/MyDrive/3_сем/CV/Task4/dataset_2.zip"
      ],
      "metadata": {
        "id": "aYkAnlAJvoSu"
      },
      "execution_count": null,
      "outputs": []
    },
    {
      "cell_type": "markdown",
      "source": [
        "Пути к директориям:"
      ],
      "metadata": {
        "id": "wzxoKVcl3_CQ"
      }
    },
    {
      "cell_type": "code",
      "source": [
        "BASE_DIR = '/content/dataset'\n",
        "TRAIN_DIR = os.path.join(BASE_DIR, 'train')\n",
        "VAL_DIR = os.path.join(BASE_DIR, 'valid')\n",
        "\n",
        "train_image_paths, train_label_paths = get_file_paths(os.path.join(TRAIN_DIR, 'images'), os.path.join(TRAIN_DIR, 'labels'))\n",
        "val_image_paths, val_label_paths = get_file_paths(os.path.join(VAL_DIR, 'images'), os.path.join(VAL_DIR, 'labels'))"
      ],
      "metadata": {
        "id": "toTs2d_SvirU"
      },
      "execution_count": null,
      "outputs": []
    },
    {
      "cell_type": "markdown",
      "source": [
        "Обучение, детекция объектов на валидации:"
      ],
      "metadata": {
        "id": "tK9p5KuB4E9L"
      }
    },
    {
      "cell_type": "code",
      "source": [
        "class_vectors = train_hog(train_image_paths, train_label_paths)\n",
        "predictions = detect(val_image_paths, class_vectors)\n",
        "gt = parse_gt(val_label_paths)\n",
        "preds = format_predictions(predictions)"
      ],
      "metadata": {
        "id": "6pdL2uhSvi2K"
      },
      "execution_count": null,
      "outputs": []
    },
    {
      "cell_type": "markdown",
      "source": [
        "Расчет mAP:"
      ],
      "metadata": {
        "id": "hloD9OdW761q"
      }
    },
    {
      "cell_type": "code",
      "source": [
        "mAP = MetricBuilder.build_evaluation_metric(\"map_2d\", async_mode=True, num_classes=NC)\n",
        "mAP.add(gt, preds)\n",
        "print(f\"mAP: {mAP.value(iou_thresholds=0.2)['mAP']}\")"
      ],
      "metadata": {
        "colab": {
          "base_uri": "https://localhost:8080/"
        },
        "id": "S3Ch4at97-Ig",
        "outputId": "1f20a760-584e-4a81-e8e5-63b12f650954"
      },
      "execution_count": null,
      "outputs": [
        {
          "output_type": "stream",
          "name": "stdout",
          "text": [
            "mAP: 0.0\n"
          ]
        }
      ]
    },
    {
      "cell_type": "markdown",
      "source": [
        "###YOLO"
      ],
      "metadata": {
        "id": "tgEssdrcg8qC"
      }
    },
    {
      "cell_type": "code",
      "source": [
        "import yaml\n",
        "\n",
        "data_content = {\n",
        "    'train': '/content/dataset/train/images',\n",
        "    'val': '/content/dataset/valid/images',\n",
        "    'nc': 20,\n",
        "    'names': ['0', '1', '2', '3', '4', '5', '6', '7', '8', '9', '10', '11', '12', '13', '14', '15', '16', '17', '18', '19']\n",
        "}\n",
        "\n",
        "yaml_path = '/content/data.yaml'\n",
        "\n",
        "with open(yaml_path, 'w') as file:\n",
        "    yaml.dump(data_content, file, default_flow_style=False, allow_unicode=True)\n",
        "\n",
        "print(f\"data.yaml has been rewritten at {yaml_path}\")"
      ],
      "metadata": {
        "colab": {
          "base_uri": "https://localhost:8080/"
        },
        "id": "qJxoM67QhQJP",
        "outputId": "da752683-1c16-4a0e-b4c4-e2cc766fab86"
      },
      "execution_count": null,
      "outputs": [
        {
          "output_type": "stream",
          "name": "stdout",
          "text": [
            "data.yaml has been rewritten at /content/data.yaml\n"
          ]
        }
      ]
    },
    {
      "cell_type": "code",
      "source": [
        "# склонируем репозиторий с yolov5 и установим необходимые пакеты\n",
        "!git clone https://github.com/ultralytics/yolov5\n",
        "%cd /content/yolov5\n",
        "!pip install -r requirements.txt\n",
        "!mv /content/data.yaml /content/yolov5"
      ],
      "metadata": {
        "colab": {
          "base_uri": "https://localhost:8080/"
        },
        "id": "JtRDIKsGg-ah",
        "outputId": "d3e0fcbf-cb25-47b9-eb08-4d26a6271348",
        "collapsed": true
      },
      "execution_count": null,
      "outputs": [
        {
          "output_type": "stream",
          "name": "stdout",
          "text": [
            "Cloning into 'yolov5'...\n",
            "remote: Enumerating objects: 17075, done.\u001b[K\n",
            "remote: Counting objects: 100% (53/53), done.\u001b[K\n",
            "remote: Compressing objects: 100% (41/41), done.\u001b[K\n",
            "remote: Total 17075 (delta 27), reused 27 (delta 12), pack-reused 17022 (from 1)\u001b[K\n",
            "Receiving objects: 100% (17075/17075), 15.68 MiB | 18.44 MiB/s, done.\n",
            "Resolving deltas: 100% (11717/11717), done.\n",
            "/content/yolov5\n",
            "Requirement already satisfied: gitpython>=3.1.30 in /usr/local/lib/python3.10/dist-packages (from -r requirements.txt (line 5)) (3.1.43)\n",
            "Requirement already satisfied: matplotlib>=3.3 in /usr/local/lib/python3.10/dist-packages (from -r requirements.txt (line 6)) (3.8.0)\n",
            "Requirement already satisfied: numpy>=1.23.5 in /usr/local/lib/python3.10/dist-packages (from -r requirements.txt (line 7)) (1.26.4)\n",
            "Requirement already satisfied: opencv-python>=4.1.1 in /usr/local/lib/python3.10/dist-packages (from -r requirements.txt (line 8)) (4.10.0.84)\n",
            "Requirement already satisfied: pillow>=10.3.0 in /usr/local/lib/python3.10/dist-packages (from -r requirements.txt (line 9)) (11.0.0)\n",
            "Requirement already satisfied: psutil in /usr/local/lib/python3.10/dist-packages (from -r requirements.txt (line 10)) (5.9.5)\n",
            "Requirement already satisfied: PyYAML>=5.3.1 in /usr/local/lib/python3.10/dist-packages (from -r requirements.txt (line 11)) (6.0.2)\n",
            "Requirement already satisfied: requests>=2.32.2 in /usr/local/lib/python3.10/dist-packages (from -r requirements.txt (line 12)) (2.32.3)\n",
            "Requirement already satisfied: scipy>=1.4.1 in /usr/local/lib/python3.10/dist-packages (from -r requirements.txt (line 13)) (1.13.1)\n",
            "Collecting thop>=0.1.1 (from -r requirements.txt (line 14))\n",
            "  Downloading thop-0.1.1.post2209072238-py3-none-any.whl.metadata (2.7 kB)\n",
            "Requirement already satisfied: torch>=1.8.0 in /usr/local/lib/python3.10/dist-packages (from -r requirements.txt (line 15)) (2.5.1+cu121)\n",
            "Requirement already satisfied: torchvision>=0.9.0 in /usr/local/lib/python3.10/dist-packages (from -r requirements.txt (line 16)) (0.20.1+cu121)\n",
            "Requirement already satisfied: tqdm>=4.66.3 in /usr/local/lib/python3.10/dist-packages (from -r requirements.txt (line 17)) (4.66.6)\n",
            "Collecting ultralytics>=8.2.34 (from -r requirements.txt (line 18))\n",
            "  Downloading ultralytics-8.3.48-py3-none-any.whl.metadata (35 kB)\n",
            "Requirement already satisfied: pandas>=1.1.4 in /usr/local/lib/python3.10/dist-packages (from -r requirements.txt (line 27)) (2.2.2)\n",
            "Requirement already satisfied: seaborn>=0.11.0 in /usr/local/lib/python3.10/dist-packages (from -r requirements.txt (line 28)) (0.13.2)\n",
            "Requirement already satisfied: setuptools>=70.0.0 in /usr/local/lib/python3.10/dist-packages (from -r requirements.txt (line 42)) (75.1.0)\n",
            "Requirement already satisfied: gitdb<5,>=4.0.1 in /usr/local/lib/python3.10/dist-packages (from gitpython>=3.1.30->-r requirements.txt (line 5)) (4.0.11)\n",
            "Requirement already satisfied: contourpy>=1.0.1 in /usr/local/lib/python3.10/dist-packages (from matplotlib>=3.3->-r requirements.txt (line 6)) (1.3.1)\n",
            "Requirement already satisfied: cycler>=0.10 in /usr/local/lib/python3.10/dist-packages (from matplotlib>=3.3->-r requirements.txt (line 6)) (0.12.1)\n",
            "Requirement already satisfied: fonttools>=4.22.0 in /usr/local/lib/python3.10/dist-packages (from matplotlib>=3.3->-r requirements.txt (line 6)) (4.55.1)\n",
            "Requirement already satisfied: kiwisolver>=1.0.1 in /usr/local/lib/python3.10/dist-packages (from matplotlib>=3.3->-r requirements.txt (line 6)) (1.4.7)\n",
            "Requirement already satisfied: packaging>=20.0 in /usr/local/lib/python3.10/dist-packages (from matplotlib>=3.3->-r requirements.txt (line 6)) (24.2)\n",
            "Requirement already satisfied: pyparsing>=2.3.1 in /usr/local/lib/python3.10/dist-packages (from matplotlib>=3.3->-r requirements.txt (line 6)) (3.2.0)\n",
            "Requirement already satisfied: python-dateutil>=2.7 in /usr/local/lib/python3.10/dist-packages (from matplotlib>=3.3->-r requirements.txt (line 6)) (2.8.2)\n",
            "Requirement already satisfied: charset-normalizer<4,>=2 in /usr/local/lib/python3.10/dist-packages (from requests>=2.32.2->-r requirements.txt (line 12)) (3.4.0)\n",
            "Requirement already satisfied: idna<4,>=2.5 in /usr/local/lib/python3.10/dist-packages (from requests>=2.32.2->-r requirements.txt (line 12)) (3.10)\n",
            "Requirement already satisfied: urllib3<3,>=1.21.1 in /usr/local/lib/python3.10/dist-packages (from requests>=2.32.2->-r requirements.txt (line 12)) (2.2.3)\n",
            "Requirement already satisfied: certifi>=2017.4.17 in /usr/local/lib/python3.10/dist-packages (from requests>=2.32.2->-r requirements.txt (line 12)) (2024.8.30)\n",
            "Requirement already satisfied: filelock in /usr/local/lib/python3.10/dist-packages (from torch>=1.8.0->-r requirements.txt (line 15)) (3.16.1)\n",
            "Requirement already satisfied: typing-extensions>=4.8.0 in /usr/local/lib/python3.10/dist-packages (from torch>=1.8.0->-r requirements.txt (line 15)) (4.12.2)\n",
            "Requirement already satisfied: networkx in /usr/local/lib/python3.10/dist-packages (from torch>=1.8.0->-r requirements.txt (line 15)) (3.4.2)\n",
            "Requirement already satisfied: jinja2 in /usr/local/lib/python3.10/dist-packages (from torch>=1.8.0->-r requirements.txt (line 15)) (3.1.4)\n",
            "Requirement already satisfied: fsspec in /usr/local/lib/python3.10/dist-packages (from torch>=1.8.0->-r requirements.txt (line 15)) (2024.10.0)\n",
            "Requirement already satisfied: sympy==1.13.1 in /usr/local/lib/python3.10/dist-packages (from torch>=1.8.0->-r requirements.txt (line 15)) (1.13.1)\n",
            "Requirement already satisfied: mpmath<1.4,>=1.1.0 in /usr/local/lib/python3.10/dist-packages (from sympy==1.13.1->torch>=1.8.0->-r requirements.txt (line 15)) (1.3.0)\n",
            "Requirement already satisfied: py-cpuinfo in /usr/local/lib/python3.10/dist-packages (from ultralytics>=8.2.34->-r requirements.txt (line 18)) (9.0.0)\n",
            "Collecting ultralytics-thop>=2.0.0 (from ultralytics>=8.2.34->-r requirements.txt (line 18))\n",
            "  Downloading ultralytics_thop-2.0.13-py3-none-any.whl.metadata (9.4 kB)\n",
            "Requirement already satisfied: pytz>=2020.1 in /usr/local/lib/python3.10/dist-packages (from pandas>=1.1.4->-r requirements.txt (line 27)) (2024.2)\n",
            "Requirement already satisfied: tzdata>=2022.7 in /usr/local/lib/python3.10/dist-packages (from pandas>=1.1.4->-r requirements.txt (line 27)) (2024.2)\n",
            "Requirement already satisfied: smmap<6,>=3.0.1 in /usr/local/lib/python3.10/dist-packages (from gitdb<5,>=4.0.1->gitpython>=3.1.30->-r requirements.txt (line 5)) (5.0.1)\n",
            "Requirement already satisfied: six>=1.5 in /usr/local/lib/python3.10/dist-packages (from python-dateutil>=2.7->matplotlib>=3.3->-r requirements.txt (line 6)) (1.16.0)\n",
            "Requirement already satisfied: MarkupSafe>=2.0 in /usr/local/lib/python3.10/dist-packages (from jinja2->torch>=1.8.0->-r requirements.txt (line 15)) (3.0.2)\n",
            "Downloading thop-0.1.1.post2209072238-py3-none-any.whl (15 kB)\n",
            "Downloading ultralytics-8.3.48-py3-none-any.whl (898 kB)\n",
            "\u001b[2K   \u001b[90m━━━━━━━━━━━━━━━━━━━━━━━━━━━━━━━━━━━━━━━━\u001b[0m \u001b[32m898.8/898.8 kB\u001b[0m \u001b[31m26.5 MB/s\u001b[0m eta \u001b[36m0:00:00\u001b[0m\n",
            "\u001b[?25hDownloading ultralytics_thop-2.0.13-py3-none-any.whl (26 kB)\n",
            "Installing collected packages: ultralytics-thop, thop, ultralytics\n",
            "Successfully installed thop-0.1.1.post2209072238 ultralytics-8.3.48 ultralytics-thop-2.0.13\n"
          ]
        }
      ]
    },
    {
      "cell_type": "code",
      "source": [
        "# train\n",
        "!python /content/yolov5/train.py --img 640 --batch-size 16 --epoch 50 --data '/content/data.yaml' --weights yolov5s.pt --patience 15"
      ],
      "metadata": {
        "colab": {
          "base_uri": "https://localhost:8080/"
        },
        "id": "Ss39bVUahkjk",
        "outputId": "afb09f5c-268d-47e6-f6c2-6620983fc854"
      },
      "execution_count": null,
      "outputs": [
        {
          "output_type": "stream",
          "name": "stdout",
          "text": [
            "Creating new Ultralytics Settings v0.0.6 file ✅ \n",
            "View Ultralytics Settings with 'yolo settings' or at '/root/.config/Ultralytics/settings.json'\n",
            "Update Settings with 'yolo settings key=value', i.e. 'yolo settings runs_dir=path/to/dir'. For help see https://docs.ultralytics.com/quickstart/#ultralytics-settings.\n",
            "\u001b[34m\u001b[1mwandb\u001b[0m: WARNING ⚠️ wandb is deprecated and will be removed in a future release. See supported integrations at https://github.com/ultralytics/yolov5#integrations.\n",
            "2024-12-09 21:11:37.095858: E external/local_xla/xla/stream_executor/cuda/cuda_fft.cc:485] Unable to register cuFFT factory: Attempting to register factory for plugin cuFFT when one has already been registered\n",
            "2024-12-09 21:11:37.127399: E external/local_xla/xla/stream_executor/cuda/cuda_dnn.cc:8454] Unable to register cuDNN factory: Attempting to register factory for plugin cuDNN when one has already been registered\n",
            "2024-12-09 21:11:37.141850: E external/local_xla/xla/stream_executor/cuda/cuda_blas.cc:1452] Unable to register cuBLAS factory: Attempting to register factory for plugin cuBLAS when one has already been registered\n",
            "\u001b[34m\u001b[1mwandb\u001b[0m: Using wandb-core as the SDK backend.  Please refer to https://wandb.me/wandb-core for more information.\n",
            "\u001b[34m\u001b[1mwandb\u001b[0m: (1) Create a W&B account\n",
            "\u001b[34m\u001b[1mwandb\u001b[0m: (2) Use an existing W&B account\n",
            "\u001b[34m\u001b[1mwandb\u001b[0m: (3) Don't visualize my results\n",
            "\u001b[34m\u001b[1mwandb\u001b[0m: Enter your choice: (30 second timeout) \n",
            "\u001b[34m\u001b[1mwandb\u001b[0m: W&B disabled due to login timeout.\n",
            "\u001b[34m\u001b[1mtrain: \u001b[0mweights=yolov5s.pt, cfg=, data=/content/data.yaml, hyp=data/hyps/hyp.scratch-low.yaml, epochs=50, batch_size=16, imgsz=640, rect=False, resume=False, nosave=False, noval=False, noautoanchor=False, noplots=False, evolve=None, evolve_population=data/hyps, resume_evolve=None, bucket=, cache=None, image_weights=False, device=, multi_scale=False, single_cls=False, optimizer=SGD, sync_bn=False, workers=8, project=runs/train, name=exp, exist_ok=False, quad=False, cos_lr=False, label_smoothing=0.0, patience=15, freeze=[0], save_period=-1, seed=0, local_rank=-1, entity=None, upload_dataset=False, bbox_interval=-1, artifact_alias=latest, ndjson_console=False, ndjson_file=False\n",
            "\u001b[34m\u001b[1mgithub: \u001b[0mup to date with https://github.com/ultralytics/yolov5 ✅\n",
            "YOLOv5 🚀 v7.0-389-ge62a31b6 Python-3.10.12 torch-2.5.1+cu121 CUDA:0 (Tesla T4, 15102MiB)\n",
            "\n",
            "\u001b[34m\u001b[1mhyperparameters: \u001b[0mlr0=0.01, lrf=0.01, momentum=0.937, weight_decay=0.0005, warmup_epochs=3.0, warmup_momentum=0.8, warmup_bias_lr=0.1, box=0.05, cls=0.5, cls_pw=1.0, obj=1.0, obj_pw=1.0, iou_t=0.2, anchor_t=4.0, fl_gamma=0.0, hsv_h=0.015, hsv_s=0.7, hsv_v=0.4, degrees=0.0, translate=0.1, scale=0.5, shear=0.0, perspective=0.0, flipud=0.0, fliplr=0.5, mosaic=1.0, mixup=0.0, copy_paste=0.0\n",
            "\u001b[34m\u001b[1mComet: \u001b[0mrun 'pip install comet_ml' to automatically track and visualize YOLOv5 🚀 runs in Comet\n",
            "\u001b[34m\u001b[1mTensorBoard: \u001b[0mStart with 'tensorboard --logdir runs/train', view at http://localhost:6006/\n",
            "Downloading https://github.com/ultralytics/assets/releases/download/v0.0.0/Arial.ttf to /root/.config/Ultralytics/Arial.ttf...\n",
            "100% 755k/755k [00:00<00:00, 22.1MB/s]\n",
            "Downloading https://github.com/ultralytics/yolov5/releases/download/v7.0/yolov5s.pt to yolov5s.pt...\n",
            "100% 14.1M/14.1M [00:00<00:00, 207MB/s]\n",
            "\n",
            "Overriding model.yaml nc=80 with nc=20\n",
            "\n",
            "                 from  n    params  module                                  arguments                     \n",
            "  0                -1  1      3520  models.common.Conv                      [3, 32, 6, 2, 2]              \n",
            "  1                -1  1     18560  models.common.Conv                      [32, 64, 3, 2]                \n",
            "  2                -1  1     18816  models.common.C3                        [64, 64, 1]                   \n",
            "  3                -1  1     73984  models.common.Conv                      [64, 128, 3, 2]               \n",
            "  4                -1  2    115712  models.common.C3                        [128, 128, 2]                 \n",
            "  5                -1  1    295424  models.common.Conv                      [128, 256, 3, 2]              \n",
            "  6                -1  3    625152  models.common.C3                        [256, 256, 3]                 \n",
            "  7                -1  1   1180672  models.common.Conv                      [256, 512, 3, 2]              \n",
            "  8                -1  1   1182720  models.common.C3                        [512, 512, 1]                 \n",
            "  9                -1  1    656896  models.common.SPPF                      [512, 512, 5]                 \n",
            " 10                -1  1    131584  models.common.Conv                      [512, 256, 1, 1]              \n",
            " 11                -1  1         0  torch.nn.modules.upsampling.Upsample    [None, 2, 'nearest']          \n",
            " 12           [-1, 6]  1         0  models.common.Concat                    [1]                           \n",
            " 13                -1  1    361984  models.common.C3                        [512, 256, 1, False]          \n",
            " 14                -1  1     33024  models.common.Conv                      [256, 128, 1, 1]              \n",
            " 15                -1  1         0  torch.nn.modules.upsampling.Upsample    [None, 2, 'nearest']          \n",
            " 16           [-1, 4]  1         0  models.common.Concat                    [1]                           \n",
            " 17                -1  1     90880  models.common.C3                        [256, 128, 1, False]          \n",
            " 18                -1  1    147712  models.common.Conv                      [128, 128, 3, 2]              \n",
            " 19          [-1, 14]  1         0  models.common.Concat                    [1]                           \n",
            " 20                -1  1    296448  models.common.C3                        [256, 256, 1, False]          \n",
            " 21                -1  1    590336  models.common.Conv                      [256, 256, 3, 2]              \n",
            " 22          [-1, 10]  1         0  models.common.Concat                    [1]                           \n",
            " 23                -1  1   1182720  models.common.C3                        [512, 512, 1, False]          \n",
            " 24      [17, 20, 23]  1     67425  models.yolo.Detect                      [20, [[10, 13, 16, 30, 33, 23], [30, 61, 62, 45, 59, 119], [116, 90, 156, 198, 373, 326]], [128, 256, 512]]\n",
            "Model summary: 214 layers, 7073569 parameters, 7073569 gradients, 16.1 GFLOPs\n",
            "\n",
            "Transferred 343/349 items from yolov5s.pt\n",
            "/content/yolov5/models/common.py:892: FutureWarning: `torch.cuda.amp.autocast(args...)` is deprecated. Please use `torch.amp.autocast('cuda', args...)` instead.\n",
            "  with amp.autocast(autocast):\n",
            "/content/yolov5/models/common.py:892: FutureWarning: `torch.cuda.amp.autocast(args...)` is deprecated. Please use `torch.amp.autocast('cuda', args...)` instead.\n",
            "  with amp.autocast(autocast):\n",
            "\u001b[34m\u001b[1mAMP: \u001b[0mchecks passed ✅\n",
            "\u001b[34m\u001b[1moptimizer:\u001b[0m SGD(lr=0.01) with parameter groups 57 weight(decay=0.0), 60 weight(decay=0.0005), 60 bias\n",
            "\u001b[34m\u001b[1malbumentations: \u001b[0mBlur(p=0.01, blur_limit=(3, 7)), MedianBlur(p=0.01, blur_limit=(3, 7)), ToGray(p=0.01, num_output_channels=3, method='weighted_average'), CLAHE(p=0.01, clip_limit=(1.0, 4.0), tile_grid_size=(8, 8))\n",
            "\u001b[34m\u001b[1mtrain: \u001b[0mScanning /content/dataset/train/labels... 880 images, 0 backgrounds, 0 corrupt: 100% 880/880 [00:01<00:00, 749.57it/s]\n",
            "\u001b[34m\u001b[1mtrain: \u001b[0mNew cache created: /content/dataset/train/labels.cache\n",
            "\u001b[34m\u001b[1mval: \u001b[0mScanning /content/dataset/valid/labels... 20 images, 0 backgrounds, 0 corrupt: 100% 20/20 [00:00<00:00, 570.78it/s]\n",
            "\u001b[34m\u001b[1mval: \u001b[0mNew cache created: /content/dataset/valid/labels.cache\n",
            "\n",
            "\u001b[34m\u001b[1mAutoAnchor: \u001b[0m2.11 anchors/target, 1.000 Best Possible Recall (BPR). Current anchors are a good fit to dataset ✅\n",
            "Plotting labels to runs/train/exp/labels.jpg... \n",
            "/content/yolov5/train.py:355: FutureWarning: `torch.cuda.amp.GradScaler(args...)` is deprecated. Please use `torch.amp.GradScaler('cuda', args...)` instead.\n",
            "  scaler = torch.cuda.amp.GradScaler(enabled=amp)\n",
            "Image sizes 640 train, 640 val\n",
            "Using 2 dataloader workers\n",
            "Logging results to \u001b[1mruns/train/exp\u001b[0m\n",
            "Starting training for 50 epochs...\n",
            "\n",
            "      Epoch    GPU_mem   box_loss   obj_loss   cls_loss  Instances       Size\n",
            "       0/49      3.59G    0.06706    0.02853    0.06019         36        640: 100% 55/55 [00:24<00:00,  2.23it/s]\n",
            "                 Class     Images  Instances          P          R      mAP50   mAP50-95: 100% 1/1 [00:02<00:00,  2.89s/it]\n",
            "                   all         20         20    0.00334        0.9     0.0819      0.024\n",
            "\n",
            "      Epoch    GPU_mem   box_loss   obj_loss   cls_loss  Instances       Size\n",
            "       1/49      3.81G    0.03974    0.02075    0.05529         48        640: 100% 55/55 [00:22<00:00,  2.41it/s]\n",
            "                 Class     Images  Instances          P          R      mAP50   mAP50-95: 100% 1/1 [00:00<00:00,  1.31it/s]\n",
            "                   all         20         20    0.00506          1      0.213      0.125\n",
            "\n",
            "      Epoch    GPU_mem   box_loss   obj_loss   cls_loss  Instances       Size\n",
            "       2/49      3.81G    0.03544    0.01426    0.05281         39        640: 100% 55/55 [00:22<00:00,  2.44it/s]\n",
            "                 Class     Images  Instances          P          R      mAP50   mAP50-95: 100% 1/1 [00:00<00:00,  2.27it/s]\n",
            "                   all         20         20    0.00632          1      0.156     0.0986\n",
            "\n",
            "      Epoch    GPU_mem   box_loss   obj_loss   cls_loss  Instances       Size\n",
            "       3/49      3.81G    0.03123    0.01251    0.05258         42        640: 100% 55/55 [00:21<00:00,  2.54it/s]\n",
            "                 Class     Images  Instances          P          R      mAP50   mAP50-95: 100% 1/1 [00:00<00:00,  2.25it/s]\n",
            "                   all         20         20     0.0628          1      0.286      0.157\n",
            "\n",
            "      Epoch    GPU_mem   box_loss   obj_loss   cls_loss  Instances       Size\n",
            "       4/49      3.81G    0.02586    0.01094    0.04932         45        640: 100% 55/55 [00:21<00:00,  2.52it/s]\n",
            "                 Class     Images  Instances          P          R      mAP50   mAP50-95: 100% 1/1 [00:00<00:00,  2.14it/s]\n",
            "                   all         20         20      0.607      0.341      0.272      0.198\n",
            "\n",
            "      Epoch    GPU_mem   box_loss   obj_loss   cls_loss  Instances       Size\n",
            "       5/49      3.81G    0.02456   0.009727    0.04969         49        640: 100% 55/55 [00:21<00:00,  2.58it/s]\n",
            "                 Class     Images  Instances          P          R      mAP50   mAP50-95: 100% 1/1 [00:00<00:00,  2.06it/s]\n",
            "                   all         20         20      0.054          1      0.399       0.35\n",
            "\n",
            "      Epoch    GPU_mem   box_loss   obj_loss   cls_loss  Instances       Size\n",
            "       6/49      3.81G    0.02216   0.009365    0.04878         51        640: 100% 55/55 [00:21<00:00,  2.55it/s]\n",
            "                 Class     Images  Instances          P          R      mAP50   mAP50-95: 100% 1/1 [00:00<00:00,  1.56it/s]\n",
            "                   all         20         20      0.299      0.628      0.428      0.323\n",
            "\n",
            "      Epoch    GPU_mem   box_loss   obj_loss   cls_loss  Instances       Size\n",
            "       7/49      3.81G    0.01926   0.008779    0.04715         45        640: 100% 55/55 [00:21<00:00,  2.52it/s]\n",
            "                 Class     Images  Instances          P          R      mAP50   mAP50-95: 100% 1/1 [00:00<00:00,  1.51it/s]\n",
            "                   all         20         20     0.0931       0.99      0.336      0.281\n",
            "\n",
            "      Epoch    GPU_mem   box_loss   obj_loss   cls_loss  Instances       Size\n",
            "       8/49      3.81G    0.02121    0.00853    0.04913         46        640: 100% 55/55 [00:21<00:00,  2.56it/s]\n",
            "                 Class     Images  Instances          P          R      mAP50   mAP50-95: 100% 1/1 [00:00<00:00,  1.31it/s]\n",
            "                   all         20         20      0.436       0.55      0.452      0.379\n",
            "\n",
            "      Epoch    GPU_mem   box_loss   obj_loss   cls_loss  Instances       Size\n",
            "       9/49      3.81G    0.01937   0.008573    0.04707         54        640: 100% 55/55 [00:21<00:00,  2.57it/s]\n",
            "                 Class     Images  Instances          P          R      mAP50   mAP50-95: 100% 1/1 [00:00<00:00,  1.87it/s]\n",
            "                   all         20         20      0.295      0.581      0.462      0.372\n",
            "\n",
            "      Epoch    GPU_mem   box_loss   obj_loss   cls_loss  Instances       Size\n",
            "      10/49      3.81G    0.02114   0.008003    0.04694         47        640: 100% 55/55 [00:21<00:00,  2.54it/s]\n",
            "                 Class     Images  Instances          P          R      mAP50   mAP50-95: 100% 1/1 [00:00<00:00,  3.19it/s]\n",
            "                   all         20         20      0.326        0.7      0.476      0.356\n",
            "\n",
            "      Epoch    GPU_mem   box_loss   obj_loss   cls_loss  Instances       Size\n",
            "      11/49      3.81G    0.02083   0.007872     0.0466         44        640: 100% 55/55 [00:21<00:00,  2.56it/s]\n",
            "                 Class     Images  Instances          P          R      mAP50   mAP50-95: 100% 1/1 [00:00<00:00,  2.90it/s]\n",
            "                   all         20         20      0.527      0.625      0.576      0.508\n",
            "\n",
            "      Epoch    GPU_mem   box_loss   obj_loss   cls_loss  Instances       Size\n",
            "      12/49      3.81G    0.02187   0.007693    0.04513         42        640: 100% 55/55 [00:21<00:00,  2.60it/s]\n",
            "                 Class     Images  Instances          P          R      mAP50   mAP50-95: 100% 1/1 [00:00<00:00,  2.33it/s]\n",
            "                   all         20         20      0.413       0.75      0.599      0.557\n",
            "\n",
            "      Epoch    GPU_mem   box_loss   obj_loss   cls_loss  Instances       Size\n",
            "      13/49      3.81G    0.01826   0.008012     0.0447         44        640: 100% 55/55 [00:21<00:00,  2.59it/s]\n",
            "                 Class     Images  Instances          P          R      mAP50   mAP50-95: 100% 1/1 [00:00<00:00,  1.63it/s]\n",
            "                   all         20         20      0.496        0.7      0.628      0.535\n",
            "\n",
            "      Epoch    GPU_mem   box_loss   obj_loss   cls_loss  Instances       Size\n",
            "      14/49      3.81G    0.01706   0.007705    0.04027         49        640: 100% 55/55 [00:21<00:00,  2.60it/s]\n",
            "                 Class     Images  Instances          P          R      mAP50   mAP50-95: 100% 1/1 [00:00<00:00,  1.44it/s]\n",
            "                   all         20         20      0.515      0.608      0.633      0.572\n",
            "\n",
            "      Epoch    GPU_mem   box_loss   obj_loss   cls_loss  Instances       Size\n",
            "      15/49      3.81G    0.01655   0.007092    0.04071         52        640: 100% 55/55 [00:21<00:00,  2.52it/s]\n",
            "                 Class     Images  Instances          P          R      mAP50   mAP50-95: 100% 1/1 [00:00<00:00,  1.30it/s]\n",
            "                   all         20         20      0.604       0.55      0.647      0.605\n",
            "\n",
            "      Epoch    GPU_mem   box_loss   obj_loss   cls_loss  Instances       Size\n",
            "      16/49      3.81G    0.01772   0.007369    0.03784         41        640: 100% 55/55 [00:22<00:00,  2.50it/s]\n",
            "                 Class     Images  Instances          P          R      mAP50   mAP50-95: 100% 1/1 [00:00<00:00,  2.93it/s]\n",
            "                   all         20         20      0.603       0.65      0.788      0.734\n",
            "\n",
            "      Epoch    GPU_mem   box_loss   obj_loss   cls_loss  Instances       Size\n",
            "      17/49      3.81G     0.0188   0.007181    0.03785         42        640: 100% 55/55 [00:21<00:00,  2.61it/s]\n",
            "                 Class     Images  Instances          P          R      mAP50   mAP50-95: 100% 1/1 [00:00<00:00,  1.96it/s]\n",
            "                   all         20         20      0.633      0.639      0.721      0.629\n",
            "\n",
            "      Epoch    GPU_mem   box_loss   obj_loss   cls_loss  Instances       Size\n",
            "      18/49      3.81G    0.01826   0.007166    0.03774         54        640: 100% 55/55 [00:21<00:00,  2.58it/s]\n",
            "                 Class     Images  Instances          P          R      mAP50   mAP50-95: 100% 1/1 [00:00<00:00,  2.35it/s]\n",
            "                   all         20         20      0.655        0.7      0.837      0.758\n",
            "\n",
            "      Epoch    GPU_mem   box_loss   obj_loss   cls_loss  Instances       Size\n",
            "      19/49      3.81G    0.01807   0.006931    0.03916         40        640: 100% 55/55 [00:21<00:00,  2.57it/s]\n",
            "                 Class     Images  Instances          P          R      mAP50   mAP50-95: 100% 1/1 [00:00<00:00,  2.33it/s]\n",
            "                   all         20         20      0.679        0.7      0.796       0.73\n",
            "\n",
            "      Epoch    GPU_mem   box_loss   obj_loss   cls_loss  Instances       Size\n",
            "      20/49      3.81G    0.01611   0.007312    0.03688         37        640: 100% 55/55 [00:21<00:00,  2.61it/s]\n",
            "                 Class     Images  Instances          P          R      mAP50   mAP50-95: 100% 1/1 [00:00<00:00,  2.02it/s]\n",
            "                   all         20         20      0.697        0.7      0.854      0.751\n",
            "\n",
            "      Epoch    GPU_mem   box_loss   obj_loss   cls_loss  Instances       Size\n",
            "      21/49      3.81G    0.01414   0.007205    0.03409         45        640: 100% 55/55 [00:21<00:00,  2.55it/s]\n",
            "                 Class     Images  Instances          P          R      mAP50   mAP50-95: 100% 1/1 [00:00<00:00,  1.87it/s]\n",
            "                   all         20         20       0.52      0.832      0.887      0.776\n",
            "\n",
            "      Epoch    GPU_mem   box_loss   obj_loss   cls_loss  Instances       Size\n",
            "      22/49      3.81G    0.01506   0.006918    0.03511         44        640: 100% 55/55 [00:22<00:00,  2.48it/s]\n",
            "                 Class     Images  Instances          P          R      mAP50   mAP50-95: 100% 1/1 [00:00<00:00,  1.71it/s]\n",
            "                   all         20         20      0.775        0.7      0.912       0.81\n",
            "\n",
            "      Epoch    GPU_mem   box_loss   obj_loss   cls_loss  Instances       Size\n",
            "      23/49      3.81G    0.01424   0.006795    0.03024         37        640: 100% 55/55 [00:21<00:00,  2.60it/s]\n",
            "                 Class     Images  Instances          P          R      mAP50   mAP50-95: 100% 1/1 [00:00<00:00,  2.15it/s]\n",
            "                   all         20         20      0.474          1      0.887      0.785\n",
            "\n",
            "      Epoch    GPU_mem   box_loss   obj_loss   cls_loss  Instances       Size\n",
            "      24/49      3.81G    0.01661   0.006795    0.03228         53        640: 100% 55/55 [00:21<00:00,  2.61it/s]\n",
            "                 Class     Images  Instances          P          R      mAP50   mAP50-95: 100% 1/1 [00:00<00:00,  2.02it/s]\n",
            "                   all         20         20      0.607       0.95      0.912      0.859\n",
            "\n",
            "      Epoch    GPU_mem   box_loss   obj_loss   cls_loss  Instances       Size\n",
            "      25/49      3.81G    0.01592   0.006687    0.02982         44        640: 100% 55/55 [00:21<00:00,  2.52it/s]\n",
            "                 Class     Images  Instances          P          R      mAP50   mAP50-95: 100% 1/1 [00:00<00:00,  2.23it/s]\n",
            "                   all         20         20      0.836        0.8      0.937      0.886\n",
            "\n",
            "      Epoch    GPU_mem   box_loss   obj_loss   cls_loss  Instances       Size\n",
            "      26/49      3.81G    0.01449   0.006671    0.02792         42        640: 100% 55/55 [00:21<00:00,  2.55it/s]\n",
            "                 Class     Images  Instances          P          R      mAP50   mAP50-95: 100% 1/1 [00:00<00:00,  2.15it/s]\n",
            "                   all         20         20      0.756       0.85       0.97       0.92\n",
            "\n",
            "      Epoch    GPU_mem   box_loss   obj_loss   cls_loss  Instances       Size\n",
            "      27/49      3.81G    0.01408   0.006484     0.0268         47        640: 100% 55/55 [00:21<00:00,  2.58it/s]\n",
            "                 Class     Images  Instances          P          R      mAP50   mAP50-95: 100% 1/1 [00:00<00:00,  2.51it/s]\n",
            "                   all         20         20      0.868       0.85       0.97      0.873\n",
            "\n",
            "      Epoch    GPU_mem   box_loss   obj_loss   cls_loss  Instances       Size\n",
            "      28/49      3.81G     0.0148   0.006523    0.02564         50        640: 100% 55/55 [00:21<00:00,  2.55it/s]\n",
            "                 Class     Images  Instances          P          R      mAP50   mAP50-95: 100% 1/1 [00:00<00:00,  1.53it/s]\n",
            "                   all         20         20      0.873       0.85       0.97      0.908\n",
            "\n",
            "      Epoch    GPU_mem   box_loss   obj_loss   cls_loss  Instances       Size\n",
            "      29/49      3.81G    0.01325   0.006466    0.02561         39        640: 100% 55/55 [00:21<00:00,  2.51it/s]\n",
            "                 Class     Images  Instances          P          R      mAP50   mAP50-95: 100% 1/1 [00:00<00:00,  1.48it/s]\n",
            "                   all         20         20      0.682      0.981       0.97       0.91\n",
            "\n",
            "      Epoch    GPU_mem   box_loss   obj_loss   cls_loss  Instances       Size\n",
            "      30/49      3.81G    0.01358   0.006393    0.02507         41        640: 100% 55/55 [00:21<00:00,  2.57it/s]\n",
            "                 Class     Images  Instances          P          R      mAP50   mAP50-95: 100% 1/1 [00:00<00:00,  1.46it/s]\n",
            "                   all         20         20      0.817       0.95       0.97        0.9\n",
            "\n",
            "      Epoch    GPU_mem   box_loss   obj_loss   cls_loss  Instances       Size\n",
            "      31/49      3.81G    0.01278   0.006512    0.02337         44        640: 100% 55/55 [00:21<00:00,  2.60it/s]\n",
            "                 Class     Images  Instances          P          R      mAP50   mAP50-95: 100% 1/1 [00:00<00:00,  2.16it/s]\n",
            "                   all         20         20       0.81       0.95       0.97      0.883\n",
            "\n",
            "      Epoch    GPU_mem   box_loss   obj_loss   cls_loss  Instances       Size\n",
            "      32/49      3.81G    0.01187   0.006041    0.02264         37        640: 100% 55/55 [00:20<00:00,  2.64it/s]\n",
            "                 Class     Images  Instances          P          R      mAP50   mAP50-95: 100% 1/1 [00:00<00:00,  2.24it/s]\n",
            "                   all         20         20      0.744          1       0.97       0.94\n",
            "\n",
            "      Epoch    GPU_mem   box_loss   obj_loss   cls_loss  Instances       Size\n",
            "      33/49      3.81G    0.01414   0.006077    0.02351         40        640: 100% 55/55 [00:20<00:00,  2.72it/s]\n",
            "                 Class     Images  Instances          P          R      mAP50   mAP50-95: 100% 1/1 [00:00<00:00,  2.33it/s]\n",
            "                   all         20         20      0.772          1      0.995      0.945\n",
            "\n",
            "      Epoch    GPU_mem   box_loss   obj_loss   cls_loss  Instances       Size\n",
            "      34/49      3.81G    0.01076   0.005981    0.02254         46        640: 100% 55/55 [00:20<00:00,  2.64it/s]\n",
            "                 Class     Images  Instances          P          R      mAP50   mAP50-95: 100% 1/1 [00:00<00:00,  2.72it/s]\n",
            "                   all         20         20       0.81          1      0.995       0.93\n",
            "\n",
            "      Epoch    GPU_mem   box_loss   obj_loss   cls_loss  Instances       Size\n",
            "      35/49      3.81G    0.01301   0.006172    0.02377         45        640: 100% 55/55 [00:21<00:00,  2.60it/s]\n",
            "                 Class     Images  Instances          P          R      mAP50   mAP50-95: 100% 1/1 [00:00<00:00,  2.51it/s]\n",
            "                   all         20         20      0.828          1      0.995       0.97\n",
            "\n",
            "      Epoch    GPU_mem   box_loss   obj_loss   cls_loss  Instances       Size\n",
            "      36/49      3.81G    0.01124   0.005858     0.0219         49        640: 100% 55/55 [00:21<00:00,  2.59it/s]\n",
            "                 Class     Images  Instances          P          R      mAP50   mAP50-95: 100% 1/1 [00:00<00:00,  1.92it/s]\n",
            "                   all         20         20      0.839          1      0.995       0.98\n",
            "\n",
            "      Epoch    GPU_mem   box_loss   obj_loss   cls_loss  Instances       Size\n",
            "      37/49      3.81G    0.01201   0.005925     0.0218         46        640: 100% 55/55 [00:21<00:00,  2.56it/s]\n",
            "                 Class     Images  Instances          P          R      mAP50   mAP50-95: 100% 1/1 [00:00<00:00,  1.85it/s]\n",
            "                   all         20         20      0.875          1      0.995       0.95\n",
            "\n",
            "      Epoch    GPU_mem   box_loss   obj_loss   cls_loss  Instances       Size\n",
            "      38/49      3.81G    0.01113   0.005789    0.02146         40        640: 100% 55/55 [00:21<00:00,  2.56it/s]\n",
            "                 Class     Images  Instances          P          R      mAP50   mAP50-95: 100% 1/1 [00:00<00:00,  1.92it/s]\n",
            "                   all         20         20      0.858          1      0.995      0.925\n",
            "\n",
            "      Epoch    GPU_mem   box_loss   obj_loss   cls_loss  Instances       Size\n",
            "      39/49      3.81G    0.01256    0.00601    0.02033         48        640: 100% 55/55 [00:21<00:00,  2.57it/s]\n",
            "                 Class     Images  Instances          P          R      mAP50   mAP50-95: 100% 1/1 [00:00<00:00,  1.36it/s]\n",
            "                   all         20         20      0.905          1      0.995       0.97\n",
            "\n",
            "      Epoch    GPU_mem   box_loss   obj_loss   cls_loss  Instances       Size\n",
            "      40/49      3.81G    0.01022   0.005547    0.02008         38        640: 100% 55/55 [00:21<00:00,  2.60it/s]\n",
            "                 Class     Images  Instances          P          R      mAP50   mAP50-95: 100% 1/1 [00:00<00:00,  2.65it/s]\n",
            "                   all         20         20      0.933          1      0.995       0.98\n",
            "\n",
            "      Epoch    GPU_mem   box_loss   obj_loss   cls_loss  Instances       Size\n",
            "      41/49      3.81G    0.01012    0.00557     0.0207         45        640: 100% 55/55 [00:20<00:00,  2.72it/s]\n",
            "                 Class     Images  Instances          P          R      mAP50   mAP50-95: 100% 1/1 [00:00<00:00,  2.13it/s]\n",
            "                   all         20         20      0.935          1      0.995       0.97\n",
            "\n",
            "      Epoch    GPU_mem   box_loss   obj_loss   cls_loss  Instances       Size\n",
            "      42/49      3.81G    0.01084   0.005548    0.01868         47        640: 100% 55/55 [00:20<00:00,  2.69it/s]\n",
            "                 Class     Images  Instances          P          R      mAP50   mAP50-95: 100% 1/1 [00:00<00:00,  2.63it/s]\n",
            "                   all         20         20      0.935          1      0.995      0.975\n",
            "\n",
            "      Epoch    GPU_mem   box_loss   obj_loss   cls_loss  Instances       Size\n",
            "      43/49      3.81G   0.008771   0.005396     0.0176         59        640: 100% 55/55 [00:20<00:00,  2.65it/s]\n",
            "                 Class     Images  Instances          P          R      mAP50   mAP50-95: 100% 1/1 [00:00<00:00,  2.57it/s]\n",
            "                   all         20         20      0.938          1      0.995      0.995\n",
            "\n",
            "      Epoch    GPU_mem   box_loss   obj_loss   cls_loss  Instances       Size\n",
            "      44/49      3.81G    0.01126   0.005426    0.01871         52        640: 100% 55/55 [00:21<00:00,  2.59it/s]\n",
            "                 Class     Images  Instances          P          R      mAP50   mAP50-95: 100% 1/1 [00:00<00:00,  1.78it/s]\n",
            "                   all         20         20      0.945          1      0.995      0.995\n",
            "\n",
            "      Epoch    GPU_mem   box_loss   obj_loss   cls_loss  Instances       Size\n",
            "      45/49      3.81G   0.009684   0.005501    0.01794         47        640: 100% 55/55 [00:21<00:00,  2.57it/s]\n",
            "                 Class     Images  Instances          P          R      mAP50   mAP50-95: 100% 1/1 [00:00<00:00,  1.93it/s]\n",
            "                   all         20         20      0.954          1      0.995      0.995\n",
            "\n",
            "      Epoch    GPU_mem   box_loss   obj_loss   cls_loss  Instances       Size\n",
            "      46/49      3.81G   0.009701   0.005231     0.0163         48        640: 100% 55/55 [00:20<00:00,  2.62it/s]\n",
            "                 Class     Images  Instances          P          R      mAP50   mAP50-95: 100% 1/1 [00:00<00:00,  1.40it/s]\n",
            "                   all         20         20      0.946          1      0.995       0.99\n",
            "\n",
            "      Epoch    GPU_mem   box_loss   obj_loss   cls_loss  Instances       Size\n",
            "      47/49      3.81G   0.008152   0.004965    0.01704         36        640: 100% 55/55 [00:21<00:00,  2.54it/s]\n",
            "                 Class     Images  Instances          P          R      mAP50   mAP50-95: 100% 1/1 [00:00<00:00,  1.32it/s]\n",
            "                   all         20         20      0.952          1      0.995      0.995\n",
            "\n",
            "      Epoch    GPU_mem   box_loss   obj_loss   cls_loss  Instances       Size\n",
            "      48/49      3.81G   0.008023    0.00514    0.01839         46        640: 100% 55/55 [00:20<00:00,  2.66it/s]\n",
            "                 Class     Images  Instances          P          R      mAP50   mAP50-95: 100% 1/1 [00:00<00:00,  2.04it/s]\n",
            "                   all         20         20      0.959          1      0.995       0.99\n",
            "\n",
            "      Epoch    GPU_mem   box_loss   obj_loss   cls_loss  Instances       Size\n",
            "      49/49      3.81G   0.007924   0.005031     0.0167         44        640: 100% 55/55 [00:20<00:00,  2.72it/s]\n",
            "                 Class     Images  Instances          P          R      mAP50   mAP50-95: 100% 1/1 [00:00<00:00,  2.46it/s]\n",
            "                   all         20         20      0.962          1      0.995      0.995\n",
            "\n",
            "50 epochs completed in 0.319 hours.\n",
            "Optimizer stripped from runs/train/exp/weights/last.pt, 14.5MB\n",
            "Optimizer stripped from runs/train/exp/weights/best.pt, 14.5MB\n",
            "\n",
            "Validating runs/train/exp/weights/best.pt...\n",
            "Fusing layers... \n",
            "Model summary: 157 layers, 7064065 parameters, 0 gradients, 15.9 GFLOPs\n",
            "                 Class     Images  Instances          P          R      mAP50   mAP50-95: 100% 1/1 [00:00<00:00,  3.88it/s]\n",
            "                   all         20         20      0.962          1      0.995      0.995\n",
            "                     0         20          1       0.96          1      0.995      0.995\n",
            "                     1         20          1      0.957          1      0.995      0.995\n",
            "                     2         20          1       0.96          1      0.995      0.995\n",
            "                     3         20          1      0.959          1      0.995      0.995\n",
            "                     4         20          1      0.959          1      0.995      0.995\n",
            "                     5         20          1      0.959          1      0.995      0.995\n",
            "                     6         20          1       0.96          1      0.995      0.995\n",
            "                     7         20          1      0.957          1      0.995      0.995\n",
            "                     8         20          1      0.971          1      0.995      0.995\n",
            "                     9         20          1      0.958          1      0.995      0.995\n",
            "                    10         20          1      0.955          1      0.995      0.995\n",
            "                    11         20          1      0.963          1      0.995      0.995\n",
            "                    12         20          1      0.963          1      0.995      0.995\n",
            "                    13         20          1      0.958          1      0.995      0.995\n",
            "                    14         20          1       0.96          1      0.995      0.995\n",
            "                    15         20          1      0.968          1      0.995      0.995\n",
            "                    16         20          1      0.963          1      0.995      0.995\n",
            "                    17         20          1      0.962          1      0.995      0.995\n",
            "                    18         20          1      0.972          1      0.995      0.995\n",
            "                    19         20          1      0.969          1      0.995      0.995\n",
            "Results saved to \u001b[1mruns/train/exp\u001b[0m\n"
          ]
        }
      ]
    },
    {
      "cell_type": "code",
      "source": [
        "# запустим прогон на тестовой выборке\n",
        "!python detect.py --weights /content/yolov5/runs/train/exp/weights/best.pt --img 640 --conf 0.1 --source /content/dataset/test"
      ],
      "metadata": {
        "colab": {
          "base_uri": "https://localhost:8080/"
        },
        "id": "2g8iediBirxd",
        "outputId": "2a68a988-25b8-49c1-e0cb-3d0f6e04db43"
      },
      "execution_count": null,
      "outputs": [
        {
          "output_type": "stream",
          "name": "stdout",
          "text": [
            "\u001b[34m\u001b[1mdetect: \u001b[0mweights=['/content/yolov5/runs/train/exp/weights/best.pt'], source=/content/dataset/test, data=data/coco128.yaml, imgsz=[640, 640], conf_thres=0.1, iou_thres=0.45, max_det=1000, device=, view_img=False, save_txt=False, save_format=0, save_csv=False, save_conf=False, save_crop=False, nosave=False, classes=None, agnostic_nms=False, augment=False, visualize=False, update=False, project=runs/detect, name=exp, exist_ok=False, line_thickness=3, hide_labels=False, hide_conf=False, half=False, dnn=False, vid_stride=1\n",
            "YOLOv5 🚀 v7.0-389-ge62a31b6 Python-3.10.12 torch-2.5.1+cu121 CUDA:0 (Tesla T4, 15102MiB)\n",
            "\n",
            "Fusing layers... \n",
            "Model summary: 157 layers, 7064065 parameters, 0 gradients, 15.9 GFLOPs\n",
            "image 1/5 /content/dataset/test/image_1.jpg: 640x576 1 2, 1 5, 29.7ms\n",
            "image 2/5 /content/dataset/test/image_2.jpg: 640x640 1 1, 11.7ms\n",
            "image 3/5 /content/dataset/test/image_3.jpg: 512x640 1 4, 1 5, 28.8ms\n",
            "image 4/5 /content/dataset/test/image_4.jpg: 640x640 1 18, 11.6ms\n",
            "image 5/5 /content/dataset/test/image_5.png: 640x256 1 12, 27.8ms\n",
            "Speed: 0.5ms pre-process, 21.9ms inference, 101.1ms NMS per image at shape (1, 3, 640, 640)\n",
            "Results saved to \u001b[1mruns/detect/exp4\u001b[0m\n"
          ]
        }
      ]
    },
    {
      "cell_type": "code",
      "source": [
        "image_paths = [\n",
        "    '/content/yolov5/runs/detect/exp4/image_1.jpg',\n",
        "    '/content/yolov5/runs/detect/exp4/image_2.jpg',\n",
        "    '/content/yolov5/runs/detect/exp4/image_3.jpg',\n",
        "    '/content/yolov5/runs/detect/exp4/image_4.jpg',\n",
        "    '/content/yolov5/runs/detect/exp4/image_5.png'\n",
        "]\n",
        "\n",
        "n_images = len(image_paths)\n",
        "fig, axes = plt.subplots(1, n_images, figsize=(15, 5))\n",
        "\n",
        "for i, image_path in enumerate(image_paths):\n",
        "    img = cv2.imread(image_path)\n",
        "    img = cv2.cvtColor(img, cv2.COLOR_BGR2RGB)\n",
        "    axes[i].imshow(img)\n",
        "    axes[i].axis('off')\n",
        "\n",
        "plt.tight_layout()\n",
        "plt.show()"
      ],
      "metadata": {
        "colab": {
          "base_uri": "https://localhost:8080/",
          "height": 243
        },
        "id": "21Nn_mxQuGp2",
        "outputId": "24fc99be-a205-435d-9ef6-c4ccd62bcb87"
      },
      "execution_count": null,
      "outputs": [
        {
          "output_type": "display_data",
          "data": {
            "text/plain": [
              "<Figure size 1500x500 with 5 Axes>"
            ],
            "image/png": "[encoded data removed]"
          },
          "metadata": {}
        }
      ]
    },
    {
      "cell_type": "markdown",
      "source": [
        "**Вывод:** Подход на основе HOG-дескрипторов оказался слишком медленным и малоэффективным, а также было получено значение maP50 равное нулю. Модель YOLO эффективно справилась с детекцией на небольшой валидационной выборке, показав более высокий результат."
      ],
      "metadata": {
        "id": "6dqlLNBJ2C8x"
      }
    }
  ]
}